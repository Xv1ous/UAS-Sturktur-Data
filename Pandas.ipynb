{
 "cells": [
  {
   "cell_type": "code",
   "execution_count": 18,
   "metadata": {},
   "outputs": [
    {
     "name": "stdout",
     "output_type": "stream",
     "text": [
      "          Day  Coldplay 212: (Indonesia)  212: (Indonesia)   \n",
      "0  2023-04-11                          0                48  \\\n",
      "1  2023-04-12                          0                55   \n",
      "2  2023-04-13                          0                57   \n",
      "3  2023-04-14                          0                69   \n",
      "4  2023-04-15                          0                45   \n",
      "\n",
      "   tolak coldplay: (Indonesia)  Coldplay lgbt: (Indonesia)  \n",
      "0                            4                           4  \n",
      "1                            0                           0  \n",
      "2                            0                           0  \n",
      "3                            0                           0  \n",
      "4                            4                           0  \n"
     ]
    }
   ],
   "source": [
    "import pandas as pd\n",
    "\n",
    "# Membaca file CSV\n",
    "data = pd.read_csv('multiTimeline (9).csv')\n",
    "\n",
    "# Menampilkan data\n",
    "print(data.head())"
   ]
  },
  {
   "cell_type": "code",
   "execution_count": 19,
   "metadata": {},
   "outputs": [
    {
     "name": "stdout",
     "output_type": "stream",
     "text": [
      "          Day  Coldplay 212: (Indonesia)  212: (Indonesia)   \n",
      "0  2023-04-11                          0                48  \\\n",
      "1  2023-04-12                          0                55   \n",
      "2  2023-04-13                          0                57   \n",
      "3  2023-04-14                          0                69   \n",
      "4  2023-04-15                          0                45   \n",
      "..        ...                        ...               ...   \n",
      "83 2023-07-03                          0                39   \n",
      "84 2023-07-04                          0                40   \n",
      "85 2023-07-05                          0                50   \n",
      "86 2023-07-06                          0                45   \n",
      "87 2023-07-07                          0                40   \n",
      "\n",
      "    tolak coldplay: (Indonesia)  Coldplay lgbt: (Indonesia)  \n",
      "0                             4                           4  \n",
      "1                             0                           0  \n",
      "2                             0                           0  \n",
      "3                             0                           0  \n",
      "4                             4                           0  \n",
      "..                          ...                         ...  \n",
      "83                            0                           0  \n",
      "84                            0                           0  \n",
      "85                            0                           5  \n",
      "86                            0                           2  \n",
      "87                            0                           0  \n",
      "\n",
      "[88 rows x 5 columns]\n"
     ]
    }
   ],
   "source": [
    "\n",
    "\n",
    "# Convert the 'Day' column to datetime format\n",
    "data['Day'] = pd.to_datetime(data['Day'])\n",
    "\n",
    "# Print the DataFrame to verify the data\n",
    "print(data)\n"
   ]
  },
  {
   "cell_type": "code",
   "execution_count": 20,
   "metadata": {},
   "outputs": [
    {
     "name": "stdout",
     "output_type": "stream",
     "text": [
      "0    2023-04-11\n",
      "1    2023-04-12\n",
      "2    2023-04-13\n",
      "3    2023-04-14\n",
      "4    2023-04-15\n",
      "        ...    \n",
      "83   2023-07-03\n",
      "84   2023-07-04\n",
      "85   2023-07-05\n",
      "86   2023-07-06\n",
      "87   2023-07-07\n",
      "Name: Day, Length: 88, dtype: datetime64[ns]\n",
      "0     0\n",
      "1     0\n",
      "2     0\n",
      "3     0\n",
      "4     0\n",
      "     ..\n",
      "83    0\n",
      "84    0\n",
      "85    0\n",
      "86    0\n",
      "87    0\n",
      "Name: Coldplay 212: (Indonesia), Length: 88, dtype: int64\n",
      "Empty DataFrame\n",
      "Columns: [Day, Coldplay 212: (Indonesia), 212: (Indonesia), tolak coldplay: (Indonesia), Coldplay lgbt: (Indonesia)]\n",
      "Index: []\n",
      "Total Tweets: 209\n",
      "Average Tweets: 2.375\n"
     ]
    }
   ],
   "source": [
    "# Accessing specific columns\n",
    "print(data['Day'])  # Access the 'Day' column\n",
    "print(data['Coldplay 212: (Indonesia)'])  # Access the 'Coldplay 212: (Indonesia)' column\n",
    "\n",
    "# Filtering the data\n",
    "filtered_data = data[data['Coldplay 212: (Indonesia)'] > 50]  # Filter data based on a condition\n",
    "print(filtered_data)\n",
    "\n",
    "# Aggregating the data\n",
    "total_tweets = data['Coldplay 212: (Indonesia)'].sum()  # Calculate the sum of 'Coldplay 212: (Indonesia)' column\n",
    "average_tweets = data['Coldplay 212: (Indonesia)'].mean()  # Calculate the average of 'Coldplay 212: (Indonesia)' column\n",
    "print(\"Total Tweets:\", total_tweets)\n",
    "print(\"Average Tweets:\", average_tweets)\n"
   ]
  },
  {
   "cell_type": "code",
   "execution_count": 21,
   "metadata": {},
   "outputs": [
    {
     "name": "stdout",
     "output_type": "stream",
     "text": [
      "                                  Day  Coldplay 212: (Indonesia)   \n",
      "Day                          1.000000                  -0.080534  \\\n",
      "Coldplay 212: (Indonesia)   -0.080534                   1.000000   \n",
      "212: (Indonesia)            -0.209546                   0.662778   \n",
      "tolak coldplay: (Indonesia) -0.099489                   0.830071   \n",
      "Coldplay lgbt: (Indonesia)   0.117927                   0.689607   \n",
      "\n",
      "                             212: (Indonesia)  tolak coldplay: (Indonesia)   \n",
      "Day                                 -0.209546                    -0.099489  \\\n",
      "Coldplay 212: (Indonesia)            0.662778                     0.830071   \n",
      "212: (Indonesia)                     1.000000                     0.626152   \n",
      "tolak coldplay: (Indonesia)          0.626152                     1.000000   \n",
      "Coldplay lgbt: (Indonesia)           0.618486                     0.613740   \n",
      "\n",
      "                             Coldplay lgbt: (Indonesia)  \n",
      "Day                                            0.117927  \n",
      "Coldplay 212: (Indonesia)                      0.689607  \n",
      "212: (Indonesia)                               0.618486  \n",
      "tolak coldplay: (Indonesia)                    0.613740  \n",
      "Coldplay lgbt: (Indonesia)                     1.000000  \n"
     ]
    }
   ],
   "source": [
    "# Assuming your DataFrame is named 'data'\n",
    "correlation_matrix = data.corr()\n",
    "\n",
    "print(correlation_matrix)"
   ]
  },
  {
   "cell_type": "code",
   "execution_count": 22,
   "metadata": {},
   "outputs": [
    {
     "name": "stdout",
     "output_type": "stream",
     "text": [
      "Correlation between 'Coldplay 212: (Indonesia)' and '212: (Indonesia)': 0.662778373175044\n"
     ]
    }
   ],
   "source": [
    "specific_correlation = correlation_matrix['Coldplay 212: (Indonesia)']['212: (Indonesia)']\n",
    "print(\"Correlation between 'Coldplay 212: (Indonesia)' and '212: (Indonesia)':\", specific_correlation)\n"
   ]
  },
  {
   "cell_type": "markdown",
   "metadata": {},
   "source": [
    "ANJ\n"
   ]
  }
 ],
 "metadata": {
  "kernelspec": {
   "display_name": "Data mining",
   "language": "python",
   "name": "python3"
  },
  "language_info": {
   "codemirror_mode": {
    "name": "ipython",
    "version": 3
   },
   "file_extension": ".py",
   "mimetype": "text/x-python",
   "name": "python",
   "nbconvert_exporter": "python",
   "pygments_lexer": "ipython3",
   "version": "3.10.4"
  },
  "orig_nbformat": 4
 },
 "nbformat": 4,
 "nbformat_minor": 2
}
